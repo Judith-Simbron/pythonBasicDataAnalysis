{
  "cells": [
    {
      "cell_type": "markdown",
      "metadata": {
        "id": "dkrziMQjhIHS"
      },
      "source": [
        "![openclassrooms](https://s3.eu-west-1.amazonaws.com/course.oc-static.com/courses/6204541/1+HnqdJ-5ofxiPP9HIxdNdpw.jpeg)\n",
        "\n",
        "# Learn Python Basics for Data Analysis\n",
        "\n",
        "## Object-oriented Programming\n",
        "\n",
        "<br><br>\n",
        "\n",
        "**String Methods**\n",
        "\n",
        "Let the variable `mySentence` be the following:\n"
      ]
    },
    {
      "cell_type": "code",
      "execution_count": 1,
      "metadata": {
        "id": "_06gPXKKhIHY"
      },
      "outputs": [],
      "source": [
        "mySentence = 'I AM EXCITED!!'"
      ]
    },
    {
      "cell_type": "markdown",
      "metadata": {
        "id": "BwdQMsWThIHZ"
      },
      "source": [
        "Use a string method to transform the variable `mySentence` to lowercase:"
      ]
    },
    {
      "cell_type": "code",
      "execution_count": 29,
      "metadata": {
        "id": "-W_m_a44hIHa",
        "colab": {
          "base_uri": "https://localhost:8080/"
        },
        "outputId": "359f6435-6471-4a55-f325-e697fd27b084"
      },
      "outputs": [
        {
          "output_type": "stream",
          "name": "stdout",
          "text": [
            "i am excited!!\n"
          ]
        }
      ],
      "source": [
        "In [2]: mySentence = 'I AM EXCITED!!'\n",
        "mySentence = mySentence.lower()\n",
        "#print(mySentence)\n",
        "\n"
      ]
    },
    {
      "cell_type": "markdown",
      "metadata": {
        "id": "eXwoKC5dhIHa"
      },
      "source": [
        "Replace the **...** with an expression that uses the `mySentence` variable to print: `I am calm!!`\n"
      ]
    },
    {
      "cell_type": "code",
      "execution_count": 40,
      "metadata": {
        "id": "Rh6-pbhUhIHb",
        "colab": {
          "base_uri": "https://localhost:8080/"
        },
        "outputId": "c0a92366-c00d-440e-8603-fdf8d08fc9aa"
      },
      "outputs": [
        {
          "output_type": "stream",
          "name": "stdout",
          "text": [
            "i am calm!!!\n"
          ]
        }
      ],
      "source": [
        "print(mySentence.replace('excited', 'calm!'))"
      ]
    }
  ],
  "metadata": {
    "colab": {
      "name": "P2C4 ex.ipynb",
      "provenance": [],
      "toc_visible": true
    },
    "kernelspec": {
      "display_name": "Python 3.9.7 ('base')",
      "language": "python",
      "name": "python3"
    },
    "language_info": {
      "codemirror_mode": {
        "name": "ipython",
        "version": 3
      },
      "file_extension": ".py",
      "mimetype": "text/x-python",
      "name": "python",
      "nbconvert_exporter": "python",
      "pygments_lexer": "ipython3",
      "version": "3.9.7"
    },
    "vscode": {
      "interpreter": {
        "hash": "0d5b2adc70bf0954b7415f3bc8543415bd6d361c5e0c2c03226caf4972d8a62d"
      }
    }
  },
  "nbformat": 4,
  "nbformat_minor": 0
}