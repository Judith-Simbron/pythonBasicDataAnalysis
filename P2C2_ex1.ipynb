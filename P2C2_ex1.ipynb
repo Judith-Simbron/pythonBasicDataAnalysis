{
  "cells": [
    {
      "cell_type": "markdown",
      "metadata": {
        "id": "hk8UGcmLejDz"
      },
      "source": [
        "![openclassrooms](https://s3.eu-west-1.amazonaws.com/course.oc-static.com/courses/6204541/1+HnqdJ-5ofxiPP9HIxdNdpw.jpeg)\n",
        "\n",
        "# Learn Python Basics for Data Analysis\n",
        "\n",
        "## Handle Variable Types\n",
        "\n",
        "Let's look again at the interest rate problem from the previous chapter:"
      ]
    },
    {
      "cell_type": "code",
      "execution_count": 1,
      "metadata": {
        "id": "ix1eEFxVejD3",
        "outputId": "334ebd6d-be12-4377-e0ff-3e290ab48f48",
        "colab": {
          "base_uri": "https://localhost:8080/"
        }
      },
      "outputs": [
        {
          "output_type": "stream",
          "name": "stdout",
          "text": [
            "75.0\n"
          ]
        }
      ],
      "source": [
        "savingsAccount = 10000\n",
        "rate = 0.75\n",
        "\n",
        "interest = savingsAccount * (rate/100)\n",
        "\n",
        "print(interest)"
      ]
    },
    {
      "cell_type": "markdown",
      "metadata": {
        "id": "_gcCqhy8ejD5"
      },
      "source": [
        "If you look closely, the `interest` variable is currently a `float` type variable. Below, write a line to transform it into an integer:"
      ]
    },
    {
      "cell_type": "code",
      "execution_count": 2,
      "metadata": {
        "id": "b2NK05I1ejD5",
        "colab": {
          "base_uri": "https://localhost:8080/"
        },
        "outputId": "0ee69fa8-9bd7-49a1-af20-56af49aa2c30"
      },
      "outputs": [
        {
          "output_type": "stream",
          "name": "stdout",
          "text": [
            "75\n"
          ]
        }
      ],
      "source": [
        "interest = int(interest)\n",
        "print(interest)"
      ]
    },
    {
      "cell_type": "markdown",
      "source": [
        "Interest **is now an integer!**\n"
      ],
      "metadata": {
        "id": "DFcQgS8WaMvH"
      }
    },
    {
      "cell_type": "markdown",
      "source": [
        "# Functions"
      ],
      "metadata": {
        "id": "hTpdxVDvTuzJ"
      }
    },
    {
      "cell_type": "code",
      "source": [
        "  In [1]: a = \"apple\"\n",
        "  print (len(a))\n"
      ],
      "metadata": {
        "id": "aUgNXatrUsxT",
        "outputId": "aa46ef83-ae7c-4d0e-8081-55fa154ec752",
        "colab": {
          "base_uri": "https://localhost:8080/"
        }
      },
      "execution_count": 2,
      "outputs": [
        {
          "output_type": "stream",
          "name": "stdout",
          "text": [
            "5\n"
          ]
        }
      ]
    },
    {
      "cell_type": "code",
      "source": [
        "  In [1]: a = \"apple\"\n",
        "  print (type(a))\n"
      ],
      "metadata": {
        "id": "IgoPkKkhUuZS",
        "outputId": "bbf6350d-492c-4815-a72b-45d9e5ed73ec",
        "colab": {
          "base_uri": "https://localhost:8080/"
        }
      },
      "execution_count": 3,
      "outputs": [
        {
          "output_type": "stream",
          "name": "stdout",
          "text": [
            "<class 'str'>\n"
          ]
        }
      ]
    },
    {
      "cell_type": "code",
      "source": [
        "  In [1]: a = \"apple\"\n",
        "  print (pow(4,2))\n"
      ],
      "metadata": {
        "id": "-AFsCu8YUw-o",
        "outputId": "bf612ed6-d7c5-45b7-d7dc-04ea15f50e53",
        "colab": {
          "base_uri": "https://localhost:8080/"
        }
      },
      "execution_count": 4,
      "outputs": [
        {
          "output_type": "stream",
          "name": "stdout",
          "text": [
            "16\n"
          ]
        }
      ]
    },
    {
      "cell_type": "code",
      "source": [
        "  In [1]: a = \"apple\"\n",
        "  print (abs(-100))"
      ],
      "metadata": {
        "id": "7kWkUxrqU243",
        "outputId": "ab19339d-9c26-45a4-8023-807dbbe41fed",
        "colab": {
          "base_uri": "https://localhost:8080/"
        }
      },
      "execution_count": 5,
      "outputs": [
        {
          "output_type": "stream",
          "name": "stdout",
          "text": [
            "100\n"
          ]
        }
      ]
    },
    {
      "cell_type": "markdown",
      "source": [
        "def functionName():\n",
        "    # statements\n",
        "    # that can go\n",
        "    # on several\n",
        "    # lines"
      ],
      "metadata": {
        "id": "X9xUcarmVcvF"
      }
    },
    {
      "cell_type": "code",
      "source": [
        "def printPerimeter():\n",
        "  dimention1 = 6\n",
        "  dimention2 = 4\n",
        "  dimention3 = 3\n",
        "  perimeter = dimention1 + dimention2 + dimention3\n",
        "  print (perimeter)\n",
        "\n",
        "printPerimeter()\n"
      ],
      "metadata": {
        "id": "wEf3Y_pTWrTF",
        "outputId": "1a83e89e-cc59-43df-ebcc-cf21acdf52bd",
        "colab": {
          "base_uri": "https://localhost:8080/"
        }
      },
      "execution_count": 19,
      "outputs": [
        {
          "output_type": "stream",
          "name": "stdout",
          "text": [
            "13\n"
          ]
        }
      ]
    },
    {
      "cell_type": "markdown",
      "source": [
        "#Parameters"
      ],
      "metadata": {
        "id": "F5nmwejzXVGR"
      }
    },
    {
      "cell_type": "code",
      "source": [
        "def printPerimeter(dimention1, dimention2, dimention3):\n",
        "  perimeter = dimention1 + dimention2 + dimention3\n",
        "  print(perimeter)"
      ],
      "metadata": {
        "id": "w7Myv0c6XaQD"
      },
      "execution_count": 21,
      "outputs": []
    },
    {
      "cell_type": "code",
      "source": [
        "printPerimeter(10, 11, 4)\n",
        "printPerimeter(2, 2, 3.5)"
      ],
      "metadata": {
        "id": "NKe8QQ3sYRc4",
        "outputId": "28f34cd8-bbd8-40e4-af3a-3c5d21e8d492",
        "colab": {
          "base_uri": "https://localhost:8080/"
        }
      },
      "execution_count": 22,
      "outputs": [
        {
          "output_type": "stream",
          "name": "stdout",
          "text": [
            "25\n",
            "7.5\n"
          ]
        }
      ]
    },
    {
      "cell_type": "markdown",
      "source": [
        "#Define Return Value\n"
      ],
      "metadata": {
        "id": "byOG35EKYiFV"
      }
    },
    {
      "cell_type": "code",
      "source": [
        "def calculatePerimeter(dimention1, dimention2, dimention3):\n",
        "  perimeter = dimention1 + dimention2 + dimention3\n",
        "  return perimeter\n",
        "\n",
        "  perimeter1 = calculatePerimeter(6, 4, 3)\n",
        "  perimeter2 = calculatePerimeter(10,3,11)\n",
        "  print(\"The perimeter of my first triangle is\", perimeter1, \"and that of my second is\", perimeter2)"
      ],
      "metadata": {
        "id": "7gU0rac3Ysbv"
      },
      "execution_count": 36,
      "outputs": []
    },
    {
      "cell_type": "code",
      "source": [
        "perimeter1 = calculatePerimeter(6, 4, 3)\n",
        "perimeter2 = calculatePerimeter(10, 3, 11)\n",
        "print(\"The perimeter of my first triangle is\", perimeter1, \"and that of my second is\", perimeter2)\n"
      ],
      "metadata": {
        "id": "CworyoXEaitk",
        "outputId": "a1ce623b-cb1e-4713-d8b5-27190beb9849",
        "colab": {
          "base_uri": "https://localhost:8080/"
        }
      },
      "execution_count": 35,
      "outputs": [
        {
          "output_type": "stream",
          "name": "stdout",
          "text": [
            "The perimeter of my first triangle is 13 and that of my second is 24\n"
          ]
        }
      ]
    },
    {
      "cell_type": "markdown",
      "source": [
        "#Help Function\n"
      ],
      "metadata": {
        "id": "VQ03SySGbJe7"
      }
    },
    {
      "cell_type": "code",
      "source": [
        "In [2]: help(pow)"
      ],
      "metadata": {
        "id": "lGZWpIPIbQUY",
        "outputId": "3f64bb4a-b19f-46ab-951a-1c158fff8dd5",
        "colab": {
          "base_uri": "https://localhost:8080/"
        }
      },
      "execution_count": 37,
      "outputs": [
        {
          "output_type": "stream",
          "name": "stdout",
          "text": [
            "Help on built-in function pow in module builtins:\n",
            "\n",
            "pow(base, exp, mod=None)\n",
            "    Equivalent to base**exp with 2 arguments or base**exp % mod with 3 arguments\n",
            "    \n",
            "    Some types, such as ints, are able to use a more efficient algorithm when\n",
            "    invoked using the three argument form.\n",
            "\n"
          ]
        }
      ]
    },
    {
      "cell_type": "markdown",
      "source": [
        "#Methods\n"
      ],
      "metadata": {
        "id": "Ajl1jg3keHj3"
      }
    },
    {
      "cell_type": "code",
      "source": [
        "In [2]: a = \"HELLO, WORLD\"\n",
        "a.lower()\n",
        "a.upper()\n",
        "a.capitalize()\n",
        "# replace(old, new)\n",
        "# find(string)\n"
      ],
      "metadata": {
        "id": "TMaG_-VKeKOL",
        "outputId": "ec1158d1-bd01-46bd-a5fe-f98fb5d8d30f",
        "colab": {
          "base_uri": "https://localhost:8080/",
          "height": 35
        }
      },
      "execution_count": 44,
      "outputs": [
        {
          "output_type": "execute_result",
          "data": {
            "text/plain": [
              "'Hello, world'"
            ],
            "application/vnd.google.colaboratory.intrinsic+json": {
              "type": "string"
            }
          },
          "metadata": {},
          "execution_count": 44
        }
      ]
    },
    {
      "cell_type": "code",
      "source": [
        "In [2]: text = \"Here is an EXAMPLE of a STRING\"\n",
        "a = text.upper()\n",
        "print(a)\n",
        "print(text.capitalize)\n",
        "print(text.replace('EXAMPLE', 'test'))\n",
        "print(text.find('an'))\n",
        "print(text.find('two'))"
      ],
      "metadata": {
        "id": "rwEO1XvQe_K3",
        "outputId": "d8f9fb4b-8fc2-41cd-aaa0-2b84cca94e98",
        "colab": {
          "base_uri": "https://localhost:8080/"
        }
      },
      "execution_count": 57,
      "outputs": [
        {
          "output_type": "stream",
          "name": "stdout",
          "text": [
            "HERE IS AN EXAMPLE OF A STRING\n",
            "<built-in method capitalize of str object at 0x7b085951b0f0>\n",
            "Here is an test of a STRING\n",
            "8\n",
            "-1\n"
          ]
        }
      ]
    }
  ],
  "metadata": {
    "colab": {
      "name": "P2C2 ex1.ipynb",
      "provenance": [],
      "toc_visible": true
    },
    "kernelspec": {
      "display_name": "Python 3.9.7 ('base')",
      "language": "python",
      "name": "python3"
    },
    "language_info": {
      "codemirror_mode": {
        "name": "ipython",
        "version": 3
      },
      "file_extension": ".py",
      "mimetype": "text/x-python",
      "name": "python",
      "nbconvert_exporter": "python",
      "pygments_lexer": "ipython3",
      "version": "3.9.7"
    },
    "vscode": {
      "interpreter": {
        "hash": "0d5b2adc70bf0954b7415f3bc8543415bd6d361c5e0c2c03226caf4972d8a62d"
      }
    }
  },
  "nbformat": 4,
  "nbformat_minor": 0
}