{
  "nbformat": 4,
  "nbformat_minor": 0,
  "metadata": {
    "colab": {
      "provenance": [],
      "authorship_tag": "ABX9TyMw4ntOk2rzbx9ZodrBEpi1",
      "include_colab_link": true
    },
    "kernelspec": {
      "name": "python3",
      "display_name": "Python 3"
    },
    "language_info": {
      "name": "python"
    }
  },
  "cells": [
    {
      "cell_type": "markdown",
      "metadata": {
        "id": "view-in-github",
        "colab_type": "text"
      },
      "source": [
        "<a href=\"https://colab.research.google.com/github/Judith-Simbron/pythonBasicDataAnalysis/blob/main/randomNum.ipynb\" target=\"_parent\"><img src=\"https://colab.research.google.com/assets/colab-badge.svg\" alt=\"Open In Colab\"/></a>"
      ]
    },
    {
      "cell_type": "code",
      "execution_count": null,
      "metadata": {
        "id": "NfXY_YoW7XYL"
      },
      "outputs": [],
      "source": []
    },
    {
      "cell_type": "code",
      "source": [
        "import random\n",
        "\n",
        "for i in range(3):\n",
        "    print(random.random() )"
      ],
      "metadata": {
        "colab": {
          "base_uri": "https://localhost:8080/"
        },
        "id": "Q2Gnf38d7YWB",
        "outputId": "77484573-1db5-4f13-aff7-fe8fcefb3a3f"
      },
      "execution_count": 5,
      "outputs": [
        {
          "output_type": "stream",
          "name": "stdout",
          "text": [
            "0.7886399539860498\n",
            "0.6144129295072933\n",
            "0.8360848026878557\n"
          ]
        }
      ]
    },
    {
      "cell_type": "code",
      "source": [
        "print('Example of the uniform function:')\n",
        "for i in range(3):\n",
        "    print(random.uniform(5,10))"
      ],
      "metadata": {
        "colab": {
          "base_uri": "https://localhost:8080/"
        },
        "id": "d_T6mbIQ8F19",
        "outputId": "95d26902-4ebd-429c-93a5-53b714f2a85d"
      },
      "execution_count": 7,
      "outputs": [
        {
          "output_type": "stream",
          "name": "stdout",
          "text": [
            "Example of the uniform function:\n",
            "7.011556921302054\n",
            "5.291978618990832\n",
            "9.250324266722128\n"
          ]
        }
      ]
    },
    {
      "cell_type": "code",
      "source": [
        "print('------------------------------:')\n",
        "print('Example of the radint function:')\n",
        "for i in range(3):\n",
        "  print(random.randint(5,10))"
      ],
      "metadata": {
        "colab": {
          "base_uri": "https://localhost:8080/"
        },
        "id": "1d_smP4f8i4p",
        "outputId": "a9607646-f32c-40ee-b4c6-f76addeda283"
      },
      "execution_count": 8,
      "outputs": [
        {
          "output_type": "stream",
          "name": "stdout",
          "text": [
            "------------------------------:\n",
            "Example of the radint function:\n",
            "8\n",
            "9\n",
            "8\n"
          ]
        }
      ]
    },
    {
      "cell_type": "code",
      "source": [
        "for i in range(10):\n",
        "    print(random.gauss(0, 1))"
      ],
      "metadata": {
        "colab": {
          "base_uri": "https://localhost:8080/"
        },
        "id": "L0HCyGwa9JgC",
        "outputId": "7b4a9f3c-5f6d-446a-9ada-7bb7775793b1"
      },
      "execution_count": 9,
      "outputs": [
        {
          "output_type": "stream",
          "name": "stdout",
          "text": [
            "-0.6013126323211586\n",
            "-1.2470871322861443\n",
            "-0.270436503886595\n",
            "0.7534182123822217\n",
            "0.9845948082538695\n",
            "-1.6673911979337535\n",
            "-0.40534402305885064\n",
            "0.4296778099923855\n",
            "2.081341943822296\n",
            "0.3219843480709607\n"
          ]
        }
      ]
    },
    {
      "cell_type": "code",
      "source": [
        "liste = ['one', 'two','three', 'four', 'five']\n",
        "for i in range(3):\n",
        "    print(random.choice(liste))"
      ],
      "metadata": {
        "colab": {
          "base_uri": "https://localhost:8080/"
        },
        "id": "Zza3N1Po9gWt",
        "outputId": "20968cf2-70a9-4a03-8267-77548fab6c3a"
      },
      "execution_count": 11,
      "outputs": [
        {
          "output_type": "stream",
          "name": "stdout",
          "text": [
            "one\n",
            "one\n",
            "three\n"
          ]
        }
      ]
    },
    {
      "cell_type": "code",
      "source": [
        "print(random.choices(liste, k=2))\n",
        "print(random.choices(liste, k=3))"
      ],
      "metadata": {
        "colab": {
          "base_uri": "https://localhost:8080/"
        },
        "id": "v7V8LOuk-C-J",
        "outputId": "458abb36-a9a8-43f0-a6f4-f0eae4404d78"
      },
      "execution_count": 15,
      "outputs": [
        {
          "output_type": "stream",
          "name": "stdout",
          "text": [
            "['five', 'four']\n",
            "['one', 'one', 'four']\n"
          ]
        }
      ]
    },
    {
      "cell_type": "code",
      "source": [
        "print(random.sample(liste, 2))\n",
        "print(random.sample(liste, 3))"
      ],
      "metadata": {
        "colab": {
          "base_uri": "https://localhost:8080/"
        },
        "id": "Qa9YKryO-WZN",
        "outputId": "56d59c00-93ca-4b22-f936-e76b5e7065af"
      },
      "execution_count": 16,
      "outputs": [
        {
          "output_type": "stream",
          "name": "stdout",
          "text": [
            "['five', 'four']\n",
            "['three', 'one', 'two']\n"
          ]
        }
      ]
    },
    {
      "cell_type": "code",
      "source": [
        "import random\n",
        "\n",
        "n = random.uniform(10,19)\n",
        "print(n)"
      ],
      "metadata": {
        "colab": {
          "base_uri": "https://localhost:8080/"
        },
        "id": "Y-y7OQ9x_lzo",
        "outputId": "98ad8ea1-315c-44d9-9602-094759344ea5"
      },
      "execution_count": 47,
      "outputs": [
        {
          "output_type": "stream",
          "name": "stdout",
          "text": [
            "12.588423923525557\n"
          ]
        }
      ]
    },
    {
      "cell_type": "code",
      "source": [
        "import random\n",
        "\n",
        "basket = [\"Apple\", \"Pear\", \"Banana\", \"Pineapple\", \"Orange\"]\n",
        "result = basket[random.randint(0, 4)]\n",
        "print(result)"
      ],
      "metadata": {
        "colab": {
          "base_uri": "https://localhost:8080/"
        },
        "id": "tI8gfUgjAapR",
        "outputId": "d45b8d21-f114-4081-904a-285f7cd48358"
      },
      "execution_count": 50,
      "outputs": [
        {
          "output_type": "stream",
          "name": "stdout",
          "text": [
            "Apple\n"
          ]
        }
      ]
    },
    {
      "cell_type": "code",
      "source": [
        "population = range(1000)\n",
        "N = 10\n",
        "random.choices(population, k=N)"
      ],
      "metadata": {
        "colab": {
          "base_uri": "https://localhost:8080/"
        },
        "id": "8X2GXbwHCS38",
        "outputId": "331edf48-8d1e-4841-8108-ea8be4f20f8b"
      },
      "execution_count": 52,
      "outputs": [
        {
          "output_type": "execute_result",
          "data": {
            "text/plain": [
              "[206, 263, 930, 725, 187, 295, 178, 408, 111, 600]"
            ]
          },
          "metadata": {},
          "execution_count": 52
        }
      ]
    },
    {
      "cell_type": "code",
      "source": [
        "from numpy import random as rnd\n",
        "x = rnd.random()"
      ],
      "metadata": {
        "id": "5Gx7IuaqEYA2"
      },
      "execution_count": 61,
      "outputs": []
    },
    {
      "cell_type": "code",
      "source": [
        "import numpy as np\n",
        "x = np.random.random"
      ],
      "metadata": {
        "id": "6Y4Yihv_Enub"
      },
      "execution_count": 59,
      "outputs": []
    },
    {
      "cell_type": "code",
      "source": [
        "import random\n",
        "x = random.random()"
      ],
      "metadata": {
        "id": "HIbYf24DExsa"
      },
      "execution_count": 60,
      "outputs": []
    }
  ]
}